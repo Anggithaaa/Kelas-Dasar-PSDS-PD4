{
  "nbformat": 4,
  "nbformat_minor": 0,
  "metadata": {
    "colab": {
      "provenance": [],
      "authorship_tag": "ABX9TyMfsvoMQj7tk9vn18GaepE+"
    },
    "kernelspec": {
      "name": "python3",
      "display_name": "Python 3"
    },
    "language_info": {
      "name": "python"
    }
  },
  "cells": [
    {
      "cell_type": "markdown",
      "source": [
        "#LIST \n"
      ],
      "metadata": {
        "id": "cHw7rA6lZUO6"
      }
    },
    {
      "cell_type": "markdown",
      "source": [
        "List adalah jenis kumpulan data terurut (ordered sequence) dan merupakan salah satu variabel yang sering digunakan pada phyton, "
      ],
      "metadata": {
        "id": "MUQ0Ij-LZk2M"
      }
    },
    {
      "cell_type": "code",
      "source": [
        "matkul = [\"fuzzy\",\"pdp\",\"metnum\",\"graph\"]\n",
        "print(matkul[2])\n",
        "print(matkul[2:])\n",
        "print(matkul[1:3])\n",
        "print(matkul[-1])\n",
        "print(matkul[-3:-1])\n",
        "print(matkul[-4:-1])"
      ],
      "metadata": {
        "colab": {
          "base_uri": "https://localhost:8080/"
        },
        "id": "1nNCfIRBaTCN",
        "outputId": "8d5b7294-97db-4441-b79f-77ad6841321c"
      },
      "execution_count": null,
      "outputs": [
        {
          "output_type": "stream",
          "name": "stdout",
          "text": [
            "metnum\n",
            "['metnum', 'graph']\n",
            "['pdp', 'metnum']\n",
            "graph\n",
            "['pdp', 'metnum']\n",
            "['fuzzy', 'pdp', 'metnum']\n"
          ]
        }
      ]
    },
    {
      "cell_type": "code",
      "source": [
        "#Terurut/ordered\n",
        "print()"
      ],
      "metadata": {
        "id": "FsoXswW5iyXC"
      },
      "execution_count": null,
      "outputs": []
    },
    {
      "cell_type": "code",
      "source": [
        "#dapat diganti/mutable\n",
        "matkul[2] = \"siskom\"\n",
        "print(matkul)"
      ],
      "metadata": {
        "colab": {
          "base_uri": "https://localhost:8080/"
        },
        "id": "tmbJM-pDhSTH",
        "outputId": "d7f6d5e4-4211-4248-9fb2-8bfe27068677"
      },
      "execution_count": null,
      "outputs": [
        {
          "output_type": "stream",
          "name": "stdout",
          "text": [
            "['fuzzy', 'pdp', 'siskom', 'graph']\n"
          ]
        }
      ]
    },
    {
      "cell_type": "code",
      "source": [
        "#dapat diindeks/slicing\n"
      ],
      "metadata": {
        "id": "I76uPhQeh3Bc"
      },
      "execution_count": null,
      "outputs": []
    },
    {
      "cell_type": "code",
      "source": [],
      "metadata": {
        "id": "A-XlpAiThQDa"
      },
      "execution_count": null,
      "outputs": []
    },
    {
      "cell_type": "markdown",
      "source": [
        "##Latihan 1\n",
        "###Buatlah list kalian sendiri dengan tiga tipe data minimal enam elemen"
      ],
      "metadata": {
        "id": "VQnQmeE4dNyV"
      }
    },
    {
      "cell_type": "code",
      "source": [
        "MATH22 = (\"Maya\",\"33\",\"Didi\",\"11.8\",\"Anggik\",\"2022\")\n",
        "print(MATH22[3])\n",
        "print(MATH22[4:])\n",
        "print(MATH22[-5])\n",
        "print(MATH22[0:5])"
      ],
      "metadata": {
        "colab": {
          "base_uri": "https://localhost:8080/"
        },
        "id": "LfU5Ic63dMvW",
        "outputId": "a6be6f34-1524-4258-837a-98d9a052f523"
      },
      "execution_count": null,
      "outputs": [
        {
          "output_type": "stream",
          "name": "stdout",
          "text": [
            "11.8\n",
            "('Anggik', '2022')\n",
            "33\n",
            "('Maya', '33', 'Didi', '11.8', 'Anggik')\n"
          ]
        }
      ]
    },
    {
      "cell_type": "markdown",
      "source": [
        "#TUPLE"
      ],
      "metadata": {
        "id": "tPh0pYf6k-4C"
      }
    },
    {
      "cell_type": "markdown",
      "source": [
        "Tuple adalah jenis dari struktur dala yang tidak dapat diubah elemennya. Umumnya tuple digunakan untuk data yang bersifat sekali tulis, dan dapat dieksekusi lebih cepat. Tuple didefinisikan dengan kurung dan elemen yang dipisahkan dengan koma"
      ],
      "metadata": {
        "id": "DsuojKT0lBoF"
      }
    },
    {
      "cell_type": "markdown",
      "source": [
        "##Latihan 2"
      ],
      "metadata": {
        "id": "OFX7j04EkBc_"
      }
    },
    {
      "cell_type": "code",
      "source": [
        "T2 = (\"desimal\", 2.5 , 3+9j , True, \"graph\")\n",
        "print (\"ini adalah tuple dua\",T2)"
      ],
      "metadata": {
        "colab": {
          "base_uri": "https://localhost:8080/"
        },
        "id": "rkrhPt_Mj_7F",
        "outputId": "4b89f4b6-fca0-4014-fd74-aa230b08e9e0"
      },
      "execution_count": null,
      "outputs": [
        {
          "output_type": "stream",
          "name": "stdout",
          "text": [
            "ini adalah tuple dua ('desimal', 2.5, (3+9j), True, 'graph')\n"
          ]
        }
      ]
    },
    {
      "cell_type": "code",
      "source": [
        "T1 = (\"anggik\",22,False)\n"
      ],
      "metadata": {
        "id": "4b8A6QuYmMTB"
      },
      "execution_count": null,
      "outputs": []
    },
    {
      "cell_type": "code",
      "source": [
        "T3 = T1 +T2\n",
        "print(T3)"
      ],
      "metadata": {
        "colab": {
          "base_uri": "https://localhost:8080/"
        },
        "id": "2c6zVeEmmb43",
        "outputId": "61a0bbe9-1e58-404f-f0bc-e6780812caad"
      },
      "execution_count": null,
      "outputs": [
        {
          "output_type": "stream",
          "name": "stdout",
          "text": [
            "('anggik', 22, False, 'desimal', 2.5, (3+9j), True, 'graph')\n"
          ]
        }
      ]
    }
  ]
}
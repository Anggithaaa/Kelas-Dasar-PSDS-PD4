{
  "nbformat": 4,
  "nbformat_minor": 0,
  "metadata": {
    "colab": {
      "provenance": [],
      "authorship_tag": "ABX9TyPMpZJNltvfZXYJ5WUsAFxE"
    },
    "kernelspec": {
      "name": "python3",
      "display_name": "Python 3"
    },
    "language_info": {
      "name": "python"
    }
  },
  "cells": [
    {
      "cell_type": "markdown",
      "source": [
        "#FUNGSI"
      ],
      "metadata": {
        "id": "MlbDSwZNnVw9"
      }
    },
    {
      "cell_type": "code",
      "execution_count": null,
      "metadata": {
        "id": "QCb5A2AgnMLd"
      },
      "outputs": [],
      "source": [
        "def nama_fungsi (argumen) :\n",
        "  statement_1\n",
        "  statement_n\n",
        "  return returned_value"
      ]
    },
    {
      "cell_type": "markdown",
      "source": [
        "##ARGUMEN DAN PARAMETER"
      ],
      "metadata": {
        "id": "shcJ2sDsntTe"
      }
    },
    {
      "cell_type": "code",
      "source": [
        "def data_nama(nama):                #'nama' adalah parameter karena terletak didalam fungsi\n",
        "    print(nama)                     \n",
        "\n",
        "data_nama(\"Budi\")                   #'Budi' adalah argumen"
      ],
      "metadata": {
        "colab": {
          "base_uri": "https://localhost:8080/"
        },
        "id": "cIyIzaWmn3wG",
        "outputId": "625366b1-4385-44d0-f4d4-1b7709c3105b"
      },
      "execution_count": null,
      "outputs": [
        {
          "output_type": "stream",
          "name": "stdout",
          "text": [
            "Budi\n"
          ]
        }
      ]
    },
    {
      "cell_type": "markdown",
      "source": [
        "##ARGUMEN POSISI DAN ARGUMEN KATA KUNCI"
      ],
      "metadata": {
        "id": "cHJGS6Aooptb"
      }
    },
    {
      "cell_type": "code",
      "source": [
        "def angka(a, b, c) :\n",
        "    print(a, b, c)\n",
        "\n",
        "#argumen posisi (berdasarkan posisinya)\n",
        "angka(1, 2, 3)\n",
        "\n",
        "#argumen berdasarkan kata kuncinya\n",
        "angka(a=1, b=2, c=3)\n",
        "angka(c=3, b=2, a=1)\n",
        "#note : jika sudah diberi kunci maka urutan tidak menjadi penting\n",
        "\n",
        "#campuran antara argumen posisi dan argumen kata kunci\n",
        "angka(1, b=2, c=3)\n",
        "\n",
        "#hal yang tidak diijinkan atau akan error\n",
        "#angka(1,b=2,3) : argumen posisi setelah argumen kunci\n",
        "#angka(1,b=2,a=3) : terdapat dua nilai untuk argumen kunci 'a'"
      ],
      "metadata": {
        "colab": {
          "base_uri": "https://localhost:8080/"
        },
        "id": "x7Qczz-4ovJM",
        "outputId": "c1a00392-e480-43fd-8884-74bd3a7e30da"
      },
      "execution_count": null,
      "outputs": [
        {
          "output_type": "stream",
          "name": "stdout",
          "text": [
            "1 2 3\n",
            "1 2 3\n",
            "1 2 3\n",
            "1 2 3\n"
          ]
        }
      ]
    },
    {
      "cell_type": "markdown",
      "source": [
        "##ARGUMEN DEFAULT"
      ],
      "metadata": {
        "id": "093z83HAq0ml"
      }
    },
    {
      "cell_type": "code",
      "source": [
        "#Argumen default\n",
        "def angka2(a, b, c, d=4) :\n",
        "    print(a, b, c, d)\n",
        "  \n",
        "angka2(1, 2, 3, 4)\n",
        "angka2(1, b=2, c=3, d=100)\n",
        "angka2(1, 2, 3)\n",
        "\n",
        "#note : argumen default harus diletakkan terakhir"
      ],
      "metadata": {
        "colab": {
          "base_uri": "https://localhost:8080/"
        },
        "id": "HVK1kbsmq5cL",
        "outputId": "8f8ef356-72f9-4697-bd4f-082551bbf50b"
      },
      "execution_count": null,
      "outputs": [
        {
          "output_type": "stream",
          "name": "stdout",
          "text": [
            "1 2 3 4\n",
            "1 2 3 100\n",
            "1 2 3 4\n"
          ]
        }
      ]
    },
    {
      "cell_type": "markdown",
      "source": [
        "####PRAKTIK MEMBUAT FUNGSI"
      ],
      "metadata": {
        "id": "704TJFVasF-r"
      }
    },
    {
      "cell_type": "code",
      "source": [
        "X = 1\n",
        "Y = 2\n",
        "X + Y"
      ],
      "metadata": {
        "colab": {
          "base_uri": "https://localhost:8080/"
        },
        "id": "r-XTSljRsFMr",
        "outputId": "c4f91414-5991-4790-8ef9-44f74e159443"
      },
      "execution_count": null,
      "outputs": [
        {
          "output_type": "execute_result",
          "data": {
            "text/plain": [
              "3"
            ]
          },
          "metadata": {},
          "execution_count": 6
        }
      ]
    },
    {
      "cell_type": "code",
      "source": [
        "def pengurangan(x,y) :  #input\n",
        "    b = x-y             #proses\n",
        "    return b            #output\n",
        "\n",
        "pengurangan(11,8)       #penggunaan fungsi"
      ],
      "metadata": {
        "colab": {
          "base_uri": "https://localhost:8080/"
        },
        "id": "VjckCA9bsW-7",
        "outputId": "f91cd00e-20d3-4ded-ec2f-37fd518525ce"
      },
      "execution_count": null,
      "outputs": [
        {
          "output_type": "execute_result",
          "data": {
            "text/plain": [
              "3"
            ]
          },
          "metadata": {},
          "execution_count": 8
        }
      ]
    },
    {
      "cell_type": "markdown",
      "source": [
        "####PENJUMLAHAN YANG MEMUNGKINKAN UNTUK 3 BILANGAN"
      ],
      "metadata": {
        "id": "LYUhwakAtDKz"
      }
    },
    {
      "cell_type": "code",
      "source": [
        "def pengurangan(x,y,z=None):\n",
        "    if (z==None) :\n",
        "      return x-y\n",
        "    else :\n",
        "      return x-y-z\n",
        "\n",
        "print(pengurangan(11,8))\n",
        "print(pengurangan(11,8,3))"
      ],
      "metadata": {
        "colab": {
          "base_uri": "https://localhost:8080/"
        },
        "id": "ms7TBOIxtC27",
        "outputId": "175c2de5-788f-4b93-80ea-762e116e9f57"
      },
      "execution_count": null,
      "outputs": [
        {
          "output_type": "stream",
          "name": "stdout",
          "text": [
            "3\n",
            "0\n"
          ]
        }
      ]
    },
    {
      "cell_type": "markdown",
      "source": [
        "####MENYIMPAN HASIL FUNGSI DALAM VARIABEL"
      ],
      "metadata": {
        "id": "v5Rb-c9yt5oD"
      }
    },
    {
      "cell_type": "code",
      "source": [
        "def pengurangan(x,y):\n",
        "    return x-y\n",
        "\n",
        "a = pengurangan\n",
        "a(11,8)"
      ],
      "metadata": {
        "colab": {
          "base_uri": "https://localhost:8080/"
        },
        "id": "M4p4lZqDuA_T",
        "outputId": "fd9aab86-fca0-48b8-d06d-ce5f4fab7c89"
      },
      "execution_count": null,
      "outputs": [
        {
          "output_type": "execute_result",
          "data": {
            "text/plain": [
              "3"
            ]
          },
          "metadata": {},
          "execution_count": 11
        }
      ]
    },
    {
      "cell_type": "markdown",
      "source": [
        "#LAMBDA"
      ],
      "metadata": {
        "id": "cxbPyniwvF2y"
      }
    },
    {
      "cell_type": "code",
      "source": [
        "#Fungsi Lambda, yakni fungsi tanpa nama atau anonymous function"
      ],
      "metadata": {
        "id": "XlwUVGODvMm5"
      },
      "execution_count": null,
      "outputs": []
    },
    {
      "cell_type": "code",
      "source": [
        "#misal\n",
        "def square_sum(x,y) :\n",
        "    return x**2 + y**2"
      ],
      "metadata": {
        "id": "apbsjgWkwA_D"
      },
      "execution_count": null,
      "outputs": []
    },
    {
      "cell_type": "code",
      "source": [
        "#dengan fungsi lambda, tidak perlu menuliskan def, return, bahkan nama\n",
        "lambda x,y : x**2 + y**2"
      ],
      "metadata": {
        "colab": {
          "base_uri": "https://localhost:8080/"
        },
        "id": "yuzjQe7KwWBy",
        "outputId": "78866c73-cfa6-4aa7-ba00-133dcd9dcbf1"
      },
      "execution_count": null,
      "outputs": [
        {
          "output_type": "execute_result",
          "data": {
            "text/plain": [
              "<function __main__.<lambda>(x, y)>"
            ]
          },
          "metadata": {},
          "execution_count": 13
        }
      ]
    },
    {
      "cell_type": "code",
      "source": [
        "#karena lambda tidak punya nama, jadi kita butuh variabel untuk menyimpannya, \n",
        "#sehingga nanti tinggal menyebutkan namanya\n",
        "greeting = lambda name : print(f\"hello, {name}\")\n",
        "\n",
        "greeting(\"Anggi\")"
      ],
      "metadata": {
        "colab": {
          "base_uri": "https://localhost:8080/"
        },
        "id": "JtXVrg_BwCcd",
        "outputId": "eb033f03-b4a2-414f-fd34-8ab0e271b06b"
      },
      "execution_count": null,
      "outputs": [
        {
          "output_type": "stream",
          "name": "stdout",
          "text": [
            "hello, Anggi\n"
          ]
        }
      ]
    },
    {
      "cell_type": "markdown",
      "source": [
        "####CONTOH PENGGUNAAN FUNGSI LAMBDA"
      ],
      "metadata": {
        "id": "60peJza4xvUx"
      }
    },
    {
      "cell_type": "code",
      "source": [
        "#fungsi lambda untuk menambahkan angka 10 kepada argumen input\n",
        "f = lambda x : x+10\n",
        "val1 = f(5)\n",
        "val2 = f(100)\n",
        "print(val1,val2)"
      ],
      "metadata": {
        "colab": {
          "base_uri": "https://localhost:8080/"
        },
        "id": "78wGAIgzxz9b",
        "outputId": "bff4ec8a-4fe5-40de-bf19-85e69a2dc9d2"
      },
      "execution_count": null,
      "outputs": [
        {
          "output_type": "stream",
          "name": "stdout",
          "text": [
            "15 110\n"
          ]
        }
      ]
    },
    {
      "cell_type": "code",
      "source": [
        "#fungsi lambda untuk mengalihkan dua argumen input dan menampilkan hasilnya\n",
        "f = lambda x,y : x*y\n",
        "val3 = f(24,2)\n",
        "val4 = f(11,8)\n",
        "print(val3,val4)"
      ],
      "metadata": {
        "colab": {
          "base_uri": "https://localhost:8080/"
        },
        "outputId": "675408e9-9394-4748-b553-45efc1a605d8",
        "id": "Ak6hP4mUySha"
      },
      "execution_count": null,
      "outputs": [
        {
          "output_type": "stream",
          "name": "stdout",
          "text": [
            "48 88\n"
          ]
        }
      ]
    },
    {
      "cell_type": "markdown",
      "source": [
        "##ANONYMOUS FUNCTION"
      ],
      "metadata": {
        "id": "A5By5rGjzBdZ"
      }
    },
    {
      "cell_type": "code",
      "source": [
        "def say_hello(name) :\n",
        "    print(f\"hello {name}, apa kabar?\")\n",
        "ucapin = say_hello(nama)\n",
        "#karena lambda adalah anonymous function, tidak bisa dijalankan dengan fungsi def"
      ],
      "metadata": {
        "colab": {
          "base_uri": "https://localhost:8080/",
          "height": 200
        },
        "id": "NfAJH-UDzE26",
        "outputId": "4135eb93-cd63-47b8-c4b0-9184cf8bfb06"
      },
      "execution_count": null,
      "outputs": [
        {
          "output_type": "error",
          "ename": "NameError",
          "evalue": "ignored",
          "traceback": [
            "\u001b[0;31m---------------------------------------------------------------------------\u001b[0m",
            "\u001b[0;31mNameError\u001b[0m                                 Traceback (most recent call last)",
            "\u001b[0;32m<ipython-input-30-2809808f8617>\u001b[0m in \u001b[0;36m<module>\u001b[0;34m\u001b[0m\n\u001b[1;32m      1\u001b[0m \u001b[0;32mdef\u001b[0m \u001b[0msay_hello\u001b[0m\u001b[0;34m(\u001b[0m\u001b[0mname\u001b[0m\u001b[0;34m)\u001b[0m \u001b[0;34m:\u001b[0m\u001b[0;34m\u001b[0m\u001b[0;34m\u001b[0m\u001b[0m\n\u001b[1;32m      2\u001b[0m     \u001b[0mprint\u001b[0m\u001b[0;34m(\u001b[0m\u001b[0;34mf\"hello, {name}, apa kabar?\"\u001b[0m\u001b[0;34m)\u001b[0m\u001b[0;34m\u001b[0m\u001b[0;34m\u001b[0m\u001b[0m\n\u001b[0;32m----> 3\u001b[0;31m \u001b[0mucapin\u001b[0m \u001b[0;34m=\u001b[0m \u001b[0msay_hello\u001b[0m\u001b[0;34m(\u001b[0m\u001b[0mnama\u001b[0m\u001b[0;34m)\u001b[0m\u001b[0;34m\u001b[0m\u001b[0;34m\u001b[0m\u001b[0m\n\u001b[0m",
            "\u001b[0;31mNameError\u001b[0m: name 'nama' is not defined"
          ]
        }
      ]
    },
    {
      "cell_type": "code",
      "source": [
        "greeting = lambda name : print(f\"hello {name}, apa kabar?\")\n",
        "sapa = greeting \n",
        "greeting(\"Anggi\")\n",
        "sapa(\"Nawa\")"
      ],
      "metadata": {
        "colab": {
          "base_uri": "https://localhost:8080/"
        },
        "id": "jjah3nbY0gP5",
        "outputId": "e3ce21f8-bf99-4f39-c462-497639262a13"
      },
      "execution_count": null,
      "outputs": [
        {
          "output_type": "stream",
          "name": "stdout",
          "text": [
            "hello Anggi, apa kabar?\n",
            "hello Nawa, apa kabar?\n"
          ]
        }
      ]
    },
    {
      "cell_type": "markdown",
      "source": [
        "##EKSEKUSI LAMBDA SECARA LANGSUNG"
      ],
      "metadata": {
        "id": "7PPUYHvd0bOy"
      }
    },
    {
      "cell_type": "code",
      "source": [
        "(lambda x,y : x**2 + y**2)(4,6)"
      ],
      "metadata": {
        "colab": {
          "base_uri": "https://localhost:8080/"
        },
        "id": "u9OF_a_F0yeR",
        "outputId": "286ecc3a-2948-4b9c-cf28-ff94fc591fbe"
      },
      "execution_count": null,
      "outputs": [
        {
          "output_type": "execute_result",
          "data": {
            "text/plain": [
              "52"
            ]
          },
          "metadata": {},
          "execution_count": 31
        }
      ]
    },
    {
      "cell_type": "markdown",
      "source": [
        "##MENGAPA HARUS LAMDA?"
      ],
      "metadata": {
        "id": "ChyakkGB1X0A"
      }
    },
    {
      "cell_type": "markdown",
      "source": [
        "Dalam kasus tertentu, kita perlu menggunakan lambda. Lambda biasanya dibutuhkan saat ingin membuat fungsi dalam satu baris. Biasanya juga lambda digunakan untuk fungsi fungsi yang membutuhkakn parameter, seperti filter(), map(), dan reduce()."
      ],
      "metadata": {
        "id": "4Zy8XN_WH8bg"
      }
    },
    {
      "cell_type": "code",
      "source": [
        "#CONTOH\n",
        "#MENENTUKAN BILANGAN GENAP\n",
        "genap = lambda x : x%2 == 0\n",
        "list(filter(genap, range(13)))"
      ],
      "metadata": {
        "colab": {
          "base_uri": "https://localhost:8080/"
        },
        "id": "XMrsvQZN2M-A",
        "outputId": "f5b79024-8bf7-408b-f51b-73f8f8e8c416"
      },
      "execution_count": null,
      "outputs": [
        {
          "output_type": "execute_result",
          "data": {
            "text/plain": [
              "[0, 2, 4, 6, 8, 10, 12]"
            ]
          },
          "metadata": {},
          "execution_count": 43
        }
      ]
    }
  ]
}

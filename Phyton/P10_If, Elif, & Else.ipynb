{
  "nbformat": 4,
  "nbformat_minor": 0,
  "metadata": {
    "colab": {
      "provenance": [],
      "authorship_tag": "ABX9TyPWQ9T5+vCj+0HN/h6t1qwy"
    },
    "kernelspec": {
      "name": "python3",
      "display_name": "Python 3"
    },
    "language_info": {
      "name": "python"
    }
  },
  "cells": [
    {
      "cell_type": "code",
      "execution_count": null,
      "metadata": {
        "colab": {
          "base_uri": "https://localhost:8080/"
        },
        "id": "Fkhgr_2bY7c3",
        "outputId": "f25eca05-e27d-431e-f9ff-c3119bd8a5cd"
      },
      "outputs": [
        {
          "output_type": "stream",
          "name": "stdout",
          "text": [
            "-2 adalah bilangan negatif\n"
          ]
        }
      ],
      "source": [
        "# IF Statement\n",
        "angka = -2\n",
        "if angka > 0 :\n",
        "  print(angka, \"adalah bilangan positif\")\n",
        "print(angka, \"adalah bilangan negatif\")"
      ]
    },
    {
      "cell_type": "code",
      "source": [
        "#IF ELSE Statement\n",
        "#Program disusun untuk mengecek apakah angka kurang dari 0 atau tidak dan menampilkan tulisan yang sesuai\n",
        "angka = 3\n",
        "if angka >= 0 :\n",
        "  print(\"Bilangan lebih dari atau sama dengan 0\")\n",
        "else :\n",
        "  print(\"Bilangan kurang dari 0\")\n",
        "\n",
        "angka = -5\n",
        "if angka >= 0 :\n",
        "  print(\"Bilangan lebih dari atau sama dengan 0\")\n",
        "else :\n",
        "  print(\"Bilangan kurang dari 0\""
      ],
      "metadata": {
        "id": "SDhOkgHna8CF"
      },
      "execution_count": null,
      "outputs": []
    },
    {
      "cell_type": "code",
      "source": [
        "#Kasus lain\n",
        "a = 5\n",
        "b = 5\n",
        "if a==b :\n",
        "  print(\"a dan b bernilai sama\")\n",
        "else :\n",
        "  print(\"a dan b bernilai berbeda\")\n",
        "\n",
        "a = 5\n",
        "b = 8\n",
        "if a==b :\n",
        "  print(\"a dan b bernilai sama\")\n",
        "else :\n",
        "  print(\"a dan b bernilai berbeda\")"
      ],
      "metadata": {
        "id": "nHAy7eOrcgFj"
      },
      "execution_count": null,
      "outputs": []
    },
    {
      "cell_type": "code",
      "source": [
        "#Kasus lain part2\n",
        "#membaca dua angka\n",
        "bil1 = int(input(\"Masukkan bilangan pertama :\"))\n",
        "bil2 = int(input(\"Masukkan bilangan kedua :\"))\n",
        "\n",
        "# memilih bilangan yang lebih besar\n",
        "if bil1 > bil2 :\n",
        "  bil_lebih_besar = bil1\n",
        "else :\n",
        "  bil_lebih_besar = bil2\n",
        "\n",
        "#menampilkan hasil \n",
        "print(\"Bilangan yang lebih besar adalah :\", bil_lebih_besar)"
      ],
      "metadata": {
        "id": "qkM9-u28dZhE",
        "colab": {
          "base_uri": "https://localhost:8080/"
        },
        "outputId": "27d2629b-9210-417c-d058-bb3c93cf92a5"
      },
      "execution_count": 1,
      "outputs": [
        {
          "output_type": "stream",
          "name": "stdout",
          "text": [
            "Masukkan bilangan pertama :2\n",
            "Masukkan bilangan kedua :4\n",
            "Bilangan yang lebih besar adalah : 4\n"
          ]
        }
      ]
    },
    {
      "cell_type": "code",
      "source": [
        "#IF ELIF ELSE\n",
        "angka = -3\n",
        "if  angka > 0 :\n",
        "  print(\"bilangan positif\")\n",
        "elif  angka == 0 :\n",
        "  print('nol')\n",
        "else  :\n",
        "  print('bilangan negatif')\n"
      ],
      "metadata": {
        "id": "502yzo8jgRdj",
        "colab": {
          "base_uri": "https://localhost:8080/"
        },
        "outputId": "bd3c8edd-cbac-406d-d12a-b0c53716e22a"
      },
      "execution_count": 7,
      "outputs": [
        {
          "output_type": "stream",
          "name": "stdout",
          "text": [
            "bilangan negatif\n"
          ]
        }
      ]
    }
  ]
}

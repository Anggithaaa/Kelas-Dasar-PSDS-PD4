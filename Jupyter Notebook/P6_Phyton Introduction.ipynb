{
  "nbformat": 4,
  "nbformat_minor": 0,
  "metadata": {
    "colab": {
      "provenance": [],
      "authorship_tag": "ABX9TyNZRc7SCx0XbQcXIHv6dfwW"
    },
    "kernelspec": {
      "name": "python3",
      "display_name": "Python 3"
    },
    "language_info": {
      "name": "python"
    }
  },
  "cells": [
    {
      "cell_type": "markdown",
      "source": [
        "#Belajar Phyton\n"
      ],
      "metadata": {
        "id": "u6KRTLyzjIie"
      }
    },
    {
      "cell_type": "markdown",
      "source": [
        "##Belajar Phyton \n"
      ],
      "metadata": {
        "id": "exKgyJ6ejW51"
      }
    },
    {
      "cell_type": "markdown",
      "source": [
        "\n",
        "###Belajar Phyton"
      ],
      "metadata": {
        "id": "h8hOZwLbo7Bc"
      }
    },
    {
      "cell_type": "code",
      "source": [
        "print(\"hello world\")\n",
        "print('hello \"world\"')\n",
        "print (\"hello world\")"
      ],
      "metadata": {
        "colab": {
          "base_uri": "https://localhost:8080/"
        },
        "id": "ds3S_N1di5ae",
        "outputId": "2057328d-d63e-4746-b170-043e8485bf18"
      },
      "execution_count": null,
      "outputs": [
        {
          "output_type": "stream",
          "name": "stdout",
          "text": [
            "hello world\n",
            "hello \"world\"\n",
            "hello world\n"
          ]
        }
      ]
    },
    {
      "cell_type": "code",
      "source": [
        "bil1 = 6\n",
        "bil2 = 10\n",
        "kalimat = 'pejuang data 4'"
      ],
      "metadata": {
        "id": "zN9CGBx8qJ-N"
      },
      "execution_count": null,
      "outputs": []
    },
    {
      "cell_type": "code",
      "source": [
        "res = bil1 + bil2\n",
        "print (res)"
      ],
      "metadata": {
        "colab": {
          "base_uri": "https://localhost:8080/"
        },
        "id": "K8amjWjFhFBH",
        "outputId": "4b66d7fa-8f22-4132-af10-10d6d85b4c8f"
      },
      "execution_count": null,
      "outputs": [
        {
          "output_type": "stream",
          "name": "stdout",
          "text": [
            "16\n"
          ]
        }
      ]
    },
    {
      "cell_type": "code",
      "source": [
        "res = bil1 - bil2\n",
        "print (res)"
      ],
      "metadata": {
        "colab": {
          "base_uri": "https://localhost:8080/"
        },
        "id": "mmVM0-iPhzXH",
        "outputId": "4a57f017-a07a-47e3-d778-7b3ddb97518b"
      },
      "execution_count": null,
      "outputs": [
        {
          "output_type": "stream",
          "name": "stdout",
          "text": [
            "-4\n"
          ]
        }
      ]
    },
    {
      "cell_type": "code",
      "source": [
        "res = bil1 * bil2\n",
        "print (res)"
      ],
      "metadata": {
        "colab": {
          "base_uri": "https://localhost:8080/"
        },
        "id": "QSp-J9M6iPhs",
        "outputId": "92bf9d3c-665c-47c3-a0f0-81c0770796b4"
      },
      "execution_count": null,
      "outputs": [
        {
          "output_type": "stream",
          "name": "stdout",
          "text": [
            "60\n"
          ]
        }
      ]
    },
    {
      "cell_type": "code",
      "source": [
        "res = bil1 / bil2\n",
        "print (res)"
      ],
      "metadata": {
        "colab": {
          "base_uri": "https://localhost:8080/"
        },
        "id": "qoHnut27iZGd",
        "outputId": "67a4b485-7fa3-4ff8-db24-ab89309dd260"
      },
      "execution_count": null,
      "outputs": [
        {
          "output_type": "stream",
          "name": "stdout",
          "text": [
            "0.6\n"
          ]
        }
      ]
    },
    {
      "cell_type": "code",
      "source": [
        "res = bil2 ** bil1\n",
        "print (res)"
      ],
      "metadata": {
        "colab": {
          "base_uri": "https://localhost:8080/"
        },
        "id": "aLZ956w9ilE5",
        "outputId": "8d426dc3-460a-4bed-d348-53a969f2d2f5"
      },
      "execution_count": null,
      "outputs": [
        {
          "output_type": "stream",
          "name": "stdout",
          "text": [
            "1000000\n"
          ]
        }
      ]
    },
    {
      "cell_type": "code",
      "source": [
        "res = bil2 // bil1\n",
        "print (res)"
      ],
      "metadata": {
        "id": "Q--5lVWti6Fy",
        "colab": {
          "base_uri": "https://localhost:8080/"
        },
        "outputId": "3ca571b9-279e-4273-91ab-a6b815e040f8"
      },
      "execution_count": null,
      "outputs": [
        {
          "output_type": "stream",
          "name": "stdout",
          "text": [
            "1\n"
          ]
        }
      ]
    },
    {
      "cell_type": "code",
      "source": [
        "kalimat"
      ],
      "metadata": {
        "colab": {
          "base_uri": "https://localhost:8080/",
          "height": 36
        },
        "id": "1xVnMRkTqqZT",
        "outputId": "0476f285-c1af-405c-ca8c-c0af672446db"
      },
      "execution_count": null,
      "outputs": [
        {
          "output_type": "execute_result",
          "data": {
            "text/plain": [
              "'pejuang data 4'"
            ],
            "application/vnd.google.colaboratory.intrinsic+json": {
              "type": "string"
            }
          },
          "metadata": {},
          "execution_count": 18
        }
      ]
    },
    {
      "cell_type": "code",
      "source": [
        "#ini adalah comment\n",
        "print(\"belajar phyton\")"
      ],
      "metadata": {
        "colab": {
          "base_uri": "https://localhost:8080/"
        },
        "id": "GwpCR5CSrdgk",
        "outputId": "5069e011-3744-4ba9-af20-0f6587adbfe9"
      },
      "execution_count": null,
      "outputs": [
        {
          "output_type": "stream",
          "name": "stdout",
          "text": [
            "belajar phyton\n"
          ]
        }
      ]
    }
  ]
}

{
  "nbformat": 4,
  "nbformat_minor": 0,
  "metadata": {
    "colab": {
      "provenance": [],
      "authorship_tag": "ABX9TyNzWt/cX3kgQJ3WP+ObgBLR"
    },
    "kernelspec": {
      "name": "python3",
      "display_name": "Python 3"
    },
    "language_info": {
      "name": "python"
    }
  },
  "cells": [
    {
      "cell_type": "markdown",
      "source": [
        "#Variable & Tipe Data\n"
      ],
      "metadata": {
        "id": "p66KCQoGmp3o"
      }
    },
    {
      "cell_type": "markdown",
      "source": [
        "##Variable"
      ],
      "metadata": {
        "id": "031Je5rSm5-h"
      }
    },
    {
      "cell_type": "code",
      "source": [
        "kal = 'ini adalah kalimat'\n",
        "bil1 = 4\n",
        "bil2 = 2.5\n",
        "bil3 = True\n",
        "bil4 = 1j + 4"
      ],
      "metadata": {
        "id": "cL-M850An4qp"
      },
      "execution_count": null,
      "outputs": []
    },
    {
      "cell_type": "markdown",
      "source": [
        "##Tipe Data"
      ],
      "metadata": {
        "id": "4wkheOFuqcua"
      }
    },
    {
      "cell_type": "code",
      "source": [
        "kal = 'ini adalah kalimat'    #String atau kalimat\n",
        "bil1 = 4                      #Integer atau bilangan bulat\n",
        "bil2 = 2.5                    #Float atau bilangan desimal\n",
        "bil3 = True                   #Boolean yang terdiri dari True dan False\n",
        "bil4 = 1j + 4                 #Complex yang merupakan bilangan kompleks"
      ],
      "metadata": {
        "id": "xTsP4_e3reXV"
      },
      "execution_count": null,
      "outputs": []
    },
    {
      "cell_type": "code",
      "source": [
        "# Menampilkan Tipe Data\n",
        "print(type(kal))\n",
        "print(type(bil1))\n",
        "print(type(bil2))\n",
        "print(type(bil3))\n",
        "print(type(bil4))"
      ],
      "metadata": {
        "colab": {
          "base_uri": "https://localhost:8080/"
        },
        "id": "3kBLYeW_rPR8",
        "outputId": "3660f828-47e2-43b4-eb2f-ba525f5e99ba"
      },
      "execution_count": null,
      "outputs": [
        {
          "output_type": "stream",
          "name": "stdout",
          "text": [
            "<class 'str'>\n",
            "<class 'int'>\n",
            "<class 'float'>\n",
            "<class 'bool'>\n",
            "<class 'complex'>\n"
          ]
        }
      ]
    },
    {
      "cell_type": "markdown",
      "source": [
        "### LATIHAN 1"
      ],
      "metadata": {
        "id": "9jZLiBj9smyx"
      }
    },
    {
      "cell_type": "code",
      "source": [
        "KAL = 'math22 ada 33 anak'\n",
        "BIL1 = 11\n",
        "BIL2 = 11.08\n",
        "BIL3 = 11j - 3\n",
        "BIL4 = False"
      ],
      "metadata": {
        "id": "y2MkPAI5spNp"
      },
      "execution_count": null,
      "outputs": []
    },
    {
      "cell_type": "code",
      "source": [
        "# Menampilkan Tipe Data\n",
        "print(type(KAL))\n",
        "print(type(BIL1))\n",
        "print(type(BIL2))\n",
        "print(type(BIL3))\n",
        "print(type(BIL4))"
      ],
      "metadata": {
        "colab": {
          "base_uri": "https://localhost:8080/"
        },
        "outputId": "56b3b01c-6777-475a-d115-084e9e101e58",
        "id": "vQs5PpI3te0H"
      },
      "execution_count": null,
      "outputs": [
        {
          "output_type": "stream",
          "name": "stdout",
          "text": [
            "<class 'str'>\n",
            "<class 'int'>\n",
            "<class 'float'>\n",
            "<class 'complex'>\n",
            "<class 'bool'>\n"
          ]
        }
      ]
    },
    {
      "cell_type": "code",
      "source": [
        "print (KAL)\n",
        "print (BIL1)\n",
        "print (BIL2)\n",
        "print (BIL3)\n",
        "print (BIL4)"
      ],
      "metadata": {
        "colab": {
          "base_uri": "https://localhost:8080/"
        },
        "id": "68n_HF-5tYW0",
        "outputId": "2a084106-7a9d-4a1b-d288-68abb2aa3b41"
      },
      "execution_count": null,
      "outputs": [
        {
          "output_type": "stream",
          "name": "stdout",
          "text": [
            "math22 ada 33 anak\n",
            "11\n",
            "11.08\n",
            "(-3+11j)\n",
            "False\n"
          ]
        }
      ]
    }
  ]
}
